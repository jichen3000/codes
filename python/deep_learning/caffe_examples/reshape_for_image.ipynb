{
 "cells": [
  {
   "cell_type": "markdown",
   "metadata": {},
   "source": [
    "## This is for showing numpy maxtrix dimension changes.\n",
    "How to reshape for image.show"
   ]
  },
  {
   "cell_type": "code",
   "execution_count": 23,
   "metadata": {
    "collapsed": true
   },
   "outputs": [],
   "source": [
    "import print_helper\n",
    "# set up Python environment: numpy for numerical routines, and matplotlib for plotting\n",
    "import numpy as np\n",
    "import matplotlib.pyplot as plt\n",
    "# display plots in this notebook\n",
    "%matplotlib inline\n",
    "\n",
    "# set display defaults\n",
    "plt.rcParams['figure.figsize'] = (1, 1)        # large images\n",
    "plt.rcParams['image.interpolation'] = 'nearest'  # don't interpolate: show square pixels\n",
    "plt.rcParams['image.cmap'] = 'gray'  # use grayscale output rather than a (potentially misleading) color heatmap"
   ]
  },
  {
   "cell_type": "code",
   "execution_count": 39,
   "metadata": {
    "collapsed": false
   },
   "outputs": [
    {
     "name": "stdout",
     "output_type": "stream",
     "text": [
      "cur_matrix.shape : (96, 3, 11, 11)\n",
      "cur_matrix.shape[1:] : (3, 11, 11)\n"
     ]
    },
    {
     "data": {
      "text/plain": [
       "(3, 11, 11)"
      ]
     },
     "execution_count": 39,
     "metadata": {},
     "output_type": "execute_result"
    }
   ],
   "source": [
    "cur_matrix = np.load('conv1.data.npy')\n",
    "cur_matrix.shape.p()\n",
    "cur_matrix.shape[1:].p()"
   ]
  },
  {
   "cell_type": "code",
   "execution_count": 65,
   "metadata": {
    "collapsed": false
   },
   "outputs": [
    {
     "data": {
      "text/plain": [
       "(-0.5, 10.5, 10.5, -0.5)"
      ]
     },
     "execution_count": 65,
     "metadata": {},
     "output_type": "execute_result"
    },
    {
     "data": {
      "image/png": "[encoded data removed]",
      "text/plain": [
       "<matplotlib.figure.Figure at 0x7fd868cc8c50>"
      ]
     },
     "metadata": {},
     "output_type": "display_data"
    }
   ],
   "source": [
    "first_small_image = cur_matrix[0,0]\n",
    "#first_small_image.pp()\n",
    "plt.imshow(first_small_image);\n",
    "plt.axis('off')\n"
   ]
  },
  {
   "cell_type": "code",
   "execution_count": 66,
   "metadata": {
    "collapsed": false
   },
   "outputs": [
    {
     "name": "stdout",
     "output_type": "stream",
     "text": [
      "another.shape :\n",
      "(3, 11, 11)\n",
      "another_1.shape :\n",
      "(11, 11, 3)\n"
     ]
    },
    {
     "data": {
      "text/plain": [
       "(-0.5, 10.5, 10.5, -0.5)"
      ]
     },
     "execution_count": 66,
     "metadata": {},
     "output_type": "execute_result"
    },
    {
     "data": {
      "image/png": "[encoded data removed]",
      "text/plain": [
       "<matplotlib.figure.Figure at 0x7fd8690217d0>"
      ]
     },
     "metadata": {},
     "output_type": "display_data"
    }
   ],
   "source": [
    "another = cur_matrix[0]\n",
    "another.shape.pp();\n",
    "another_1 = another.transpose(1,2,0)\n",
    "another_1.shape.pp();\n",
    "plt.imshow(another_1);\n",
    "plt.axis('off')"
   ]
  },
  {
   "cell_type": "markdown",
   "metadata": {
    "collapsed": true
   },
   "source": [
    "### for pad"
   ]
  },
  {
   "cell_type": "code",
   "execution_count": 43,
   "metadata": {
    "collapsed": false
   },
   "outputs": [
    {
     "name": "stdout",
     "output_type": "stream",
     "text": [
      "a :\n",
      "array([[[ 0,  1,  2,  3,  4],\n",
      "        [ 5,  6,  7,  8,  9],\n",
      "        [10, 11, 12, 13, 14],\n",
      "        [15, 16, 17, 18, 19]],\n",
      "\n",
      "       [[20, 21, 22, 23, 24],\n",
      "        [25, 26, 27, 28, 29],\n",
      "        [30, 31, 32, 33, 34],\n",
      "        [35, 36, 37, 38, 39]],\n",
      "\n",
      "       [[40, 41, 42, 43, 44],\n",
      "        [45, 46, 47, 48, 49],\n",
      "        [50, 51, 52, 53, 54],\n",
      "        [55, 56, 57, 58, 59]]])\n",
      "b :\n",
      "array([[[ 0,  1,  2,  3,  4,  1],\n",
      "        [ 5,  6,  7,  8,  9,  1],\n",
      "        [10, 11, 12, 13, 14,  1],\n",
      "        [15, 16, 17, 18, 19,  1],\n",
      "        [ 1,  1,  1,  1,  1,  1]],\n",
      "\n",
      "       [[20, 21, 22, 23, 24,  1],\n",
      "        [25, 26, 27, 28, 29,  1],\n",
      "        [30, 31, 32, 33, 34,  1],\n",
      "        [35, 36, 37, 38, 39,  1],\n",
      "        [ 1,  1,  1,  1,  1,  1]],\n",
      "\n",
      "       [[40, 41, 42, 43, 44,  1],\n",
      "        [45, 46, 47, 48, 49,  1],\n",
      "        [50, 51, 52, 53, 54,  1],\n",
      "        [55, 56, 57, 58, 59,  1],\n",
      "        [ 1,  1,  1,  1,  1,  1]],\n",
      "\n",
      "       [[ 1,  1,  1,  1,  1,  1],\n",
      "        [ 1,  1,  1,  1,  1,  1],\n",
      "        [ 1,  1,  1,  1,  1,  1],\n",
      "        [ 1,  1,  1,  1,  1,  1],\n",
      "        [ 1,  1,  1,  1,  1,  1]]])\n"
     ]
    }
   ],
   "source": [
    "a = np.arange(60).reshape(3,4,5)\n",
    "b = np.pad(a,((0,1),(0,1),(0,1)),mode='constant', constant_values=1)\n",
    "a.pp();\n",
    "b.pp();"
   ]
  },
  {
   "cell_type": "markdown",
   "metadata": {},
   "source": [
    "### for transpose\n",
    "It will impact the position of values, if you see all values in one dimension.\n",
    "If just two dimensions transpose, it like overturn a rectangle.\n",
    "When you want to caculate the value of indexs, firstly go back to the original matrix, then caculate by original indexs."
   ]
  },
  {
   "cell_type": "code",
   "execution_count": 62,
   "metadata": {
    "collapsed": false
   },
   "outputs": [
    {
     "name": "stdout",
     "output_type": "stream",
     "text": [
      "a.shape : (3, 4, 5)\n",
      "a.transpose(0,2,1) :\n",
      "array([[[ 0,  5, 10, 15],\n",
      "        [ 1,  6, 11, 16],\n",
      "        [ 2,  7, 12, 17],\n",
      "        [ 3,  8, 13, 18],\n",
      "        [ 4,  9, 14, 19]],\n",
      "\n",
      "       [[20, 25, 30, 35],\n",
      "        [21, 26, 31, 36],\n",
      "        [22, 27, 32, 37],\n",
      "        [23, 28, 33, 38],\n",
      "        [24, 29, 34, 39]],\n",
      "\n",
      "       [[40, 45, 50, 55],\n",
      "        [41, 46, 51, 56],\n",
      "        [42, 47, 52, 57],\n",
      "        [43, 48, 53, 58],\n",
      "        [44, 49, 54, 59]]])\n",
      "a.transpose(2,1,0) :\n",
      "array([[[ 0, 20, 40],\n",
      "        [ 5, 25, 45],\n",
      "        [10, 30, 50],\n",
      "        [15, 35, 55]],\n",
      "\n",
      "       [[ 1, 21, 41],\n",
      "        [ 6, 26, 46],\n",
      "        [11, 31, 51],\n",
      "        [16, 36, 56]],\n",
      "\n",
      "       [[ 2, 22, 42],\n",
      "        [ 7, 27, 47],\n",
      "        [12, 32, 52],\n",
      "        [17, 37, 57]],\n",
      "\n",
      "       [[ 3, 23, 43],\n",
      "        [ 8, 28, 48],\n",
      "        [13, 33, 53],\n",
      "        [18, 38, 58]],\n",
      "\n",
      "       [[ 4, 24, 44],\n",
      "        [ 9, 29, 49],\n",
      "        [14, 34, 54],\n",
      "        [19, 39, 59]]])\n",
      "a.transpose(1,2,0) :\n",
      "array([[[ 0, 20, 40],\n",
      "        [ 1, 21, 41],\n",
      "        [ 2, 22, 42],\n",
      "        [ 3, 23, 43],\n",
      "        [ 4, 24, 44]],\n",
      "\n",
      "       [[ 5, 25, 45],\n",
      "        [ 6, 26, 46],\n",
      "        [ 7, 27, 47],\n",
      "        [ 8, 28, 48],\n",
      "        [ 9, 29, 49]],\n",
      "\n",
      "       [[10, 30, 50],\n",
      "        [11, 31, 51],\n",
      "        [12, 32, 52],\n",
      "        [13, 33, 53],\n",
      "        [14, 34, 54]],\n",
      "\n",
      "       [[15, 35, 55],\n",
      "        [16, 36, 56],\n",
      "        [17, 37, 57],\n",
      "        [18, 38, 58],\n",
      "        [19, 39, 59]]])\n"
     ]
    }
   ],
   "source": [
    "a.shape.p()\n",
    "a.transpose(0,2,1).pp()\n",
    "a.transpose(2,1,0).pp();\n",
    "a.transpose(1,2,0).pp();"
   ]
  },
  {
   "cell_type": "markdown",
   "metadata": {
    "collapsed": true
   },
   "source": [
    "### for reshape\n",
    "it will not impact the position of values, if you see all values in one dimension.\n",
    "The below shows how to split a dimension, it is really easy to imagine, just like cut a rope to multiple ones.\n",
    "vice versa"
   ]
  },
  {
   "cell_type": "code",
   "execution_count": 59,
   "metadata": {
    "collapsed": false
   },
   "outputs": [
    {
     "name": "stdout",
     "output_type": "stream",
     "text": [
      "c :\n",
      "array([[[  0,   1,   2,   3,   4,   5],\n",
      "        [  6,   7,   8,   9,  10,  11],\n",
      "        [ 12,  13,  14,  15,  16,  17],\n",
      "        [ 18,  19,  20,  21,  22,  23],\n",
      "        [ 24,  25,  26,  27,  28,  29]],\n",
      "\n",
      "       [[ 30,  31,  32,  33,  34,  35],\n",
      "        [ 36,  37,  38,  39,  40,  41],\n",
      "        [ 42,  43,  44,  45,  46,  47],\n",
      "        [ 48,  49,  50,  51,  52,  53],\n",
      "        [ 54,  55,  56,  57,  58,  59]],\n",
      "\n",
      "       [[ 60,  61,  62,  63,  64,  65],\n",
      "        [ 66,  67,  68,  69,  70,  71],\n",
      "        [ 72,  73,  74,  75,  76,  77],\n",
      "        [ 78,  79,  80,  81,  82,  83],\n",
      "        [ 84,  85,  86,  87,  88,  89]],\n",
      "\n",
      "       [[ 90,  91,  92,  93,  94,  95],\n",
      "        [ 96,  97,  98,  99, 100, 101],\n",
      "        [102, 103, 104, 105, 106, 107],\n",
      "        [108, 109, 110, 111, 112, 113],\n",
      "        [114, 115, 116, 117, 118, 119]]])\n",
      "c1 :\n",
      "array([[[[  0,   1,   2,   3,   4,   5],\n",
      "         [  6,   7,   8,   9,  10,  11],\n",
      "         [ 12,  13,  14,  15,  16,  17],\n",
      "         [ 18,  19,  20,  21,  22,  23],\n",
      "         [ 24,  25,  26,  27,  28,  29]],\n",
      "\n",
      "        [[ 30,  31,  32,  33,  34,  35],\n",
      "         [ 36,  37,  38,  39,  40,  41],\n",
      "         [ 42,  43,  44,  45,  46,  47],\n",
      "         [ 48,  49,  50,  51,  52,  53],\n",
      "         [ 54,  55,  56,  57,  58,  59]]],\n",
      "\n",
      "\n",
      "       [[[ 60,  61,  62,  63,  64,  65],\n",
      "         [ 66,  67,  68,  69,  70,  71],\n",
      "         [ 72,  73,  74,  75,  76,  77],\n",
      "         [ 78,  79,  80,  81,  82,  83],\n",
      "         [ 84,  85,  86,  87,  88,  89]],\n",
      "\n",
      "        [[ 90,  91,  92,  93,  94,  95],\n",
      "         [ 96,  97,  98,  99, 100, 101],\n",
      "         [102, 103, 104, 105, 106, 107],\n",
      "         [108, 109, 110, 111, 112, 113],\n",
      "         [114, 115, 116, 117, 118, 119]]]])\n",
      "c2 :\n",
      "array([[[[  0,   1,   2,   3,   4,   5],\n",
      "         [ 30,  31,  32,  33,  34,  35]],\n",
      "\n",
      "        [[  6,   7,   8,   9,  10,  11],\n",
      "         [ 36,  37,  38,  39,  40,  41]],\n",
      "\n",
      "        [[ 12,  13,  14,  15,  16,  17],\n",
      "         [ 42,  43,  44,  45,  46,  47]],\n",
      "\n",
      "        [[ 18,  19,  20,  21,  22,  23],\n",
      "         [ 48,  49,  50,  51,  52,  53]],\n",
      "\n",
      "        [[ 24,  25,  26,  27,  28,  29],\n",
      "         [ 54,  55,  56,  57,  58,  59]]],\n",
      "\n",
      "\n",
      "       [[[ 60,  61,  62,  63,  64,  65],\n",
      "         [ 90,  91,  92,  93,  94,  95]],\n",
      "\n",
      "        [[ 66,  67,  68,  69,  70,  71],\n",
      "         [ 96,  97,  98,  99, 100, 101]],\n",
      "\n",
      "        [[ 72,  73,  74,  75,  76,  77],\n",
      "         [102, 103, 104, 105, 106, 107]],\n",
      "\n",
      "        [[ 78,  79,  80,  81,  82,  83],\n",
      "         [108, 109, 110, 111, 112, 113]],\n",
      "\n",
      "        [[ 84,  85,  86,  87,  88,  89],\n",
      "         [114, 115, 116, 117, 118, 119]]]])\n"
     ]
    },
    {
     "data": {
      "text/plain": [
       "array([[  0,   1,   2,   3,   4,   5,  30,  31,  32,  33,  34,  35],\n",
       "       [  6,   7,   8,   9,  10,  11,  36,  37,  38,  39,  40,  41],\n",
       "       [ 12,  13,  14,  15,  16,  17,  42,  43,  44,  45,  46,  47],\n",
       "       [ 18,  19,  20,  21,  22,  23,  48,  49,  50,  51,  52,  53],\n",
       "       [ 24,  25,  26,  27,  28,  29,  54,  55,  56,  57,  58,  59],\n",
       "       [ 60,  61,  62,  63,  64,  65,  90,  91,  92,  93,  94,  95],\n",
       "       [ 66,  67,  68,  69,  70,  71,  96,  97,  98,  99, 100, 101],\n",
       "       [ 72,  73,  74,  75,  76,  77, 102, 103, 104, 105, 106, 107],\n",
       "       [ 78,  79,  80,  81,  82,  83, 108, 109, 110, 111, 112, 113],\n",
       "       [ 84,  85,  86,  87,  88,  89, 114, 115, 116, 117, 118, 119]])"
      ]
     },
     "execution_count": 59,
     "metadata": {},
     "output_type": "execute_result"
    }
   ],
   "source": [
    "c = np.arange(120).reshape(4,5,6)\n",
    "c.pp();\n",
    "c1 = c.reshape(2,2,5,6)\n",
    "c1.pp();\n",
    "c2 = c1.transpose(0,2,1,3)\n",
    "c2.pp();\n",
    "c2.reshape(10,12)"
   ]
  },
  {
   "cell_type": "code",
   "execution_count": 61,
   "metadata": {
    "collapsed": false
   },
   "outputs": [
    {
     "name": "stdout",
     "output_type": "stream",
     "text": [
      "tt :\n",
      "array([[0, 1, 2, 3, 4],\n",
      "       [5, 6, 7, 8, 9]])\n"
     ]
    },
    {
     "data": {
      "text/plain": [
       "array([[0, 5],\n",
       "       [1, 6],\n",
       "       [2, 7],\n",
       "       [3, 8],\n",
       "       [4, 9]])"
      ]
     },
     "execution_count": 61,
     "metadata": {},
     "output_type": "execute_result"
    }
   ],
   "source": [
    "tt = np.arange(10).reshape(2,5)\n",
    "tt.pp()\n",
    "tt.transpose()"
   ]
  },
  {
   "cell_type": "code",
   "execution_count": null,
   "metadata": {
    "collapsed": true
   },
   "outputs": [],
   "source": []
  }
 ],
 "metadata": {
  "kernelspec": {
   "display_name": "Python 2",
   "language": "python",
   "name": "python2"
  },
  "language_info": {
   "codemirror_mode": {
    "name": "ipython",
    "version": 2
   },
   "file_extension": ".py",
   "mimetype": "text/x-python",
   "name": "python",
   "nbconvert_exporter": "python",
   "pygments_lexer": "ipython2",
   "version": "2.7.11"
  }
 },
 "nbformat": 4,
 "nbformat_minor": 0
}
