{
 "cells": [
  {
   "cell_type": "markdown",
   "metadata": {},
   "source": [
    "[link](https://www.tensorflow.org/tutorials/recurrent)"
   ]
  },
  {
   "cell_type": "code",
   "execution_count": 1,
   "metadata": {
    "collapsed": true
   },
   "outputs": [],
   "source": [
    "from __future__ import absolute_import\n",
    "from __future__ import division\n",
    "from __future__ import print_function\n",
    "\n",
    "import inspect\n",
    "import time\n",
    "\n",
    "import numpy as np\n",
    "import tensorflow as tf\n",
    "\n",
    "import reader\n"
   ]
  },
  {
   "cell_type": "code",
   "execution_count": 2,
   "metadata": {
    "collapsed": true
   },
   "outputs": [],
   "source": [
    "import print_helper"
   ]
  },
  {
   "cell_type": "code",
   "execution_count": 3,
   "metadata": {},
   "outputs": [],
   "source": [
    "flags = tf.flags\n",
    "logging = tf.logging\n",
    "\n",
    "flags.DEFINE_string(\n",
    "    \"model\", \"small\",\n",
    "    \"A type of model. Possible options are: small, medium, large.\")\n",
    "flags.DEFINE_string(\"data_path\", \"./data/simple-examples/data\",\n",
    "                    \"Where the training/test data is stored.\")\n",
    "flags.DEFINE_string(\"save_path\", \"./save\",\n",
    "                    \"Model output directory.\")\n",
    "flags.DEFINE_bool(\"use_fp16\", False,\n",
    "                  \"Train using 16-bit floats instead of 32bit floats\")\n",
    "\n",
    "FLAGS = flags.FLAGS\n"
   ]
  },
  {
   "cell_type": "code",
   "execution_count": 4,
   "metadata": {},
   "outputs": [
    {
     "name": "stdout",
     "output_type": "stream",
     "text": [
      "FLAGS.data_path : ./data/simple-examples/data\n",
      "FLAGS.save_path : ./save\n"
     ]
    }
   ],
   "source": [
    "FLAGS.data_path.p()\n",
    "FLAGS.save_path.p()\n",
    "None"
   ]
  },
  {
   "cell_type": "code",
   "execution_count": 5,
   "metadata": {
    "collapsed": true
   },
   "outputs": [],
   "source": [
    "def data_type():\n",
    "  return tf.float16 if FLAGS.use_fp16 else tf.float32\n",
    "\n",
    "\n",
    "class PTBInput(object):\n",
    "  \"\"\"The input data.\"\"\"\n",
    "\n",
    "  def __init__(self, config, data, name=None):\n",
    "    self.batch_size = batch_size = config.batch_size\n",
    "    self.num_steps = num_steps = config.num_steps\n",
    "    self.epoch_size = ((len(data) // batch_size) - 1) // num_steps\n",
    "    self.input_data, self.targets = reader.ptb_producer(\n",
    "        data, batch_size, num_steps, name=name)\n"
   ]
  },
  {
   "cell_type": "code",
   "execution_count": 6,
   "metadata": {
    "collapsed": true
   },
   "outputs": [],
   "source": [
    "class PTBModel(object):\n",
    "  \"\"\"The PTB model.\"\"\"\n",
    "\n",
    "  def __init__(self, is_training, config, input_):\n",
    "    self._input = input_\n",
    "\n",
    "    batch_size = input_.batch_size\n",
    "    num_steps = input_.num_steps\n",
    "    size = config.hidden_size\n",
    "    vocab_size = config.vocab_size\n",
    "\n",
    "    # Slightly better results can be obtained with forget gate biases\n",
    "    # initialized to 1 but the hyperparameters of the model would need to be\n",
    "    # different than reported in the paper.\n",
    "    def lstm_cell():\n",
    "      # With the latest TensorFlow source code (as of Mar 27, 2017),\n",
    "      # the BasicLSTMCell will need a reuse parameter which is unfortunately not\n",
    "      # defined in TensorFlow 1.0. To maintain backwards compatibility, we add\n",
    "      # an argument check here:\n",
    "      if 'reuse' in inspect.getargspec(\n",
    "          tf.contrib.rnn.BasicLSTMCell.__init__).args:\n",
    "        return tf.contrib.rnn.BasicLSTMCell(\n",
    "            size, forget_bias=0.0, state_is_tuple=True,\n",
    "            reuse=tf.get_variable_scope().reuse)\n",
    "      else:\n",
    "        return tf.contrib.rnn.BasicLSTMCell(\n",
    "            size, forget_bias=0.0, state_is_tuple=True)\n",
    "    attn_cell = lstm_cell\n",
    "    if is_training and config.keep_prob < 1:\n",
    "      def attn_cell():\n",
    "        return tf.contrib.rnn.DropoutWrapper(\n",
    "            lstm_cell(), output_keep_prob=config.keep_prob)\n",
    "    cell = tf.contrib.rnn.MultiRNNCell(\n",
    "        [attn_cell() for _ in range(config.num_layers)], state_is_tuple=True)\n",
    "\n",
    "    self._initial_state = cell.zero_state(batch_size, data_type())\n",
    "\n",
    "    with tf.device(\"/cpu:0\"):\n",
    "      embedding = tf.get_variable(\n",
    "          \"embedding\", [vocab_size, size], dtype=data_type())\n",
    "      inputs = tf.nn.embedding_lookup(embedding, input_.input_data)\n",
    "\n",
    "    if is_training and config.keep_prob < 1:\n",
    "      inputs = tf.nn.dropout(inputs, config.keep_prob)\n",
    "\n",
    "    # Simplified version of models/tutorials/rnn/rnn.py's rnn().\n",
    "    # This builds an unrolled LSTM for tutorial purposes only.\n",
    "    # In general, use the rnn() or state_saving_rnn() from rnn.py.\n",
    "    #\n",
    "    # The alternative version of the code below is:\n",
    "    #\n",
    "    # inputs = tf.unstack(inputs, num=num_steps, axis=1)\n",
    "    # outputs, state = tf.contrib.rnn.static_rnn(\n",
    "    #     cell, inputs, initial_state=self._initial_state)\n",
    "    outputs = []\n",
    "    state = self._initial_state\n",
    "    with tf.variable_scope(\"RNN\"):\n",
    "      for time_step in range(num_steps):\n",
    "        if time_step > 0: tf.get_variable_scope().reuse_variables()\n",
    "        (cell_output, state) = cell(inputs[:, time_step, :], state)\n",
    "        outputs.append(cell_output)\n",
    "\n",
    "    output = tf.reshape(tf.stack(axis=1, values=outputs), [-1, size])\n",
    "    softmax_w = tf.get_variable(\n",
    "        \"softmax_w\", [size, vocab_size], dtype=data_type())\n",
    "    softmax_b = tf.get_variable(\"softmax_b\", [vocab_size], dtype=data_type())\n",
    "    logits = tf.matmul(output, softmax_w) + softmax_b\n",
    "\n",
    "    # Reshape logits to be 3-D tensor for sequence loss\n",
    "    logits = tf.reshape(logits, [batch_size, num_steps, vocab_size])\n",
    "\n",
    "    # use the contrib sequence loss and average over the batches\n",
    "    loss = tf.contrib.seq2seq.sequence_loss(\n",
    "        logits,\n",
    "        input_.targets,\n",
    "        tf.ones([batch_size, num_steps], dtype=data_type()),\n",
    "        average_across_timesteps=False,\n",
    "        average_across_batch=True\n",
    "    )\n",
    "\n",
    "    # update the cost variables\n",
    "    self._cost = cost = tf.reduce_sum(loss)\n",
    "    self._final_state = state\n",
    "\n",
    "    if not is_training:\n",
    "      return\n",
    "\n",
    "    self._lr = tf.Variable(0.0, trainable=False)\n",
    "    tvars = tf.trainable_variables()\n",
    "    grads, _ = tf.clip_by_global_norm(tf.gradients(cost, tvars),\n",
    "                                      config.max_grad_norm)\n",
    "    optimizer = tf.train.GradientDescentOptimizer(self._lr)\n",
    "    self._train_op = optimizer.apply_gradients(\n",
    "        zip(grads, tvars),\n",
    "        global_step=tf.contrib.framework.get_or_create_global_step())\n",
    "\n",
    "    self._new_lr = tf.placeholder(\n",
    "        tf.float32, shape=[], name=\"new_learning_rate\")\n",
    "    self._lr_update = tf.assign(self._lr, self._new_lr)\n",
    "\n",
    "  def assign_lr(self, session, lr_value):\n",
    "    session.run(self._lr_update, feed_dict={self._new_lr: lr_value})\n",
    "\n",
    "  @property\n",
    "  def input(self):\n",
    "    return self._input\n",
    "\n",
    "  @property\n",
    "  def initial_state(self):\n",
    "    return self._initial_state\n",
    "\n",
    "  @property\n",
    "  def cost(self):\n",
    "    return self._cost\n",
    "\n",
    "  @property\n",
    "  def final_state(self):\n",
    "    return self._final_state\n",
    "\n",
    "  @property\n",
    "  def lr(self):\n",
    "    return self._lr\n",
    "\n",
    "  @property\n",
    "  def train_op(self):\n",
    "    return self._train_op\n"
   ]
  },
  {
   "cell_type": "code",
   "execution_count": 7,
   "metadata": {
    "collapsed": true
   },
   "outputs": [],
   "source": [
    "class SmallConfig(object):\n",
    "  \"\"\"Small config.\"\"\"\n",
    "  init_scale = 0.1\n",
    "  learning_rate = 1.0\n",
    "  max_grad_norm = 5\n",
    "  num_layers = 2\n",
    "  num_steps = 20\n",
    "  hidden_size = 200\n",
    "  max_epoch = 4\n",
    "  max_max_epoch = 13\n",
    "  keep_prob = 1.0\n",
    "  lr_decay = 0.5\n",
    "  batch_size = 20\n",
    "  vocab_size = 10000\n"
   ]
  },
  {
   "cell_type": "code",
   "execution_count": 8,
   "metadata": {
    "collapsed": true
   },
   "outputs": [],
   "source": [
    "def run_epoch(session, model, eval_op=None, verbose=False):\n",
    "  \"\"\"Runs the model on the given data.\"\"\"\n",
    "  start_time = time.time()\n",
    "  costs = 0.0\n",
    "  iters = 0\n",
    "  state = session.run(model.initial_state)\n",
    "\n",
    "  fetches = {\n",
    "      \"cost\": model.cost,\n",
    "      \"final_state\": model.final_state,\n",
    "  }\n",
    "  if eval_op is not None:\n",
    "    fetches[\"eval_op\"] = eval_op\n",
    "\n",
    "  for step in range(model.input.epoch_size):\n",
    "    feed_dict = {}\n",
    "    for i, (c, h) in enumerate(model.initial_state):\n",
    "      feed_dict[c] = state[i].c\n",
    "      feed_dict[h] = state[i].h\n",
    "\n",
    "    vals = session.run(fetches, feed_dict)\n",
    "    cost = vals[\"cost\"]\n",
    "    state = vals[\"final_state\"]\n",
    "\n",
    "    costs += cost\n",
    "    iters += model.input.num_steps\n",
    "\n",
    "    if verbose and step % (model.input.epoch_size // 10) == 10:\n",
    "      print(\"%.3f perplexity: %.3f speed: %.0f wps\" %\n",
    "            (step * 1.0 / model.input.epoch_size, np.exp(costs / iters),\n",
    "             iters * model.input.batch_size / (time.time() - start_time)))\n",
    "\n",
    "  return np.exp(costs / iters)\n"
   ]
  },
  {
   "cell_type": "code",
   "execution_count": 9,
   "metadata": {
    "collapsed": true
   },
   "outputs": [],
   "source": [
    "  if not FLAGS.data_path:\n",
    "    raise ValueError(\"Must set --data_path to PTB data directory\")\n",
    "\n",
    "  raw_data = reader.ptb_raw_data(FLAGS.data_path)\n",
    "  train_data, valid_data, test_data, _ = raw_data\n",
    "\n",
    "  config = SmallConfig()\n",
    "  eval_config = SmallConfig()\n",
    "  eval_config.batch_size = 1\n",
    "  eval_config.num_steps = 1\n"
   ]
  },
  {
   "cell_type": "code",
   "execution_count": 10,
   "metadata": {},
   "outputs": [
    {
     "name": "stdout",
     "output_type": "stream",
     "text": [
      "len(train_data) : 929589\n",
      "len(valid_data) : 73760\n",
      "len(test_data) : 82430\n",
      "train_data[:5] : [9970, 9971, 9972, 9974, 9975]\n",
      "test_data[:5] : [102, 14, 24, 32, 752]\n",
      "<type 'int'>\n"
     ]
    }
   ],
   "source": [
    "len(train_data).p()\n",
    "len(valid_data).p()\n",
    "len(test_data).p()\n",
    "train_data[:5].p()\n",
    "test_data[:5].p()\n",
    "print(type(raw_data[-1]))\n",
    "None\n"
   ]
  },
  {
   "cell_type": "code",
   "execution_count": 14,
   "metadata": {},
   "outputs": [],
   "source": [
    "with tf.Graph().as_default():\n",
    "  initializer = tf.random_uniform_initializer(-config.init_scale,\n",
    "                                              config.init_scale)\n",
    "\n",
    "  with tf.name_scope(\"Train\"):\n",
    "    train_input = PTBInput(config=config, data=train_data, name=\"TrainInput\")\n",
    "    with tf.variable_scope(\"Model\", reuse=None, initializer=initializer):\n",
    "      m = PTBModel(is_training=True, config=config, input_=train_input)\n",
    "    tf.summary.scalar(\"Training_Loss\", m.cost)\n",
    "    tf.summary.scalar(\"Learning_Rate\", m.lr)\n",
    "\n",
    "  with tf.name_scope(\"Valid\"):\n",
    "    valid_input = PTBInput(config=config, data=valid_data, name=\"ValidInput\")\n",
    "    with tf.variable_scope(\"Model\", reuse=True, initializer=initializer):\n",
    "      mvalid = PTBModel(is_training=False, config=config, input_=valid_input)\n",
    "    tf.summary.scalar(\"Validation_Loss\", mvalid.cost)\n",
    "\n",
    "  with tf.name_scope(\"Test\"):\n",
    "    test_input = PTBInput(config=eval_config, data=test_data, name=\"TestInput\")\n",
    "    with tf.variable_scope(\"Model\", reuse=True, initializer=initializer):\n",
    "      mtest = PTBModel(is_training=False, config=eval_config,\n",
    "                       input_=test_input)\n"
   ]
  },
  {
   "cell_type": "markdown",
   "metadata": {
    "collapsed": true
   },
   "source": [
    "## restore"
   ]
  },
  {
   "cell_type": "code",
   "execution_count": 15,
   "metadata": {
    "collapsed": true
   },
   "outputs": [],
   "source": [
    "sess=tf.Session()    \n",
    "#First let's load meta graph and restore weights\n",
    "saver = tf.train.import_meta_graph('save-30199.meta')\n",
    "saver.restore(sess,tf.train.latest_checkpoint('./save'))\n"
   ]
  },
  {
   "cell_type": "code",
   "execution_count": null,
   "metadata": {},
   "outputs": [
    {
     "name": "stdout",
     "output_type": "stream",
     "text": [
      "model.final_state : (LSTMStateTuple(c=<tf.Tensor 'Test/Model/RNN/multi_rnn_cell/cell_0/basic_lstm_cell/add_1:0' shape=(1, 200) dtype=float32>, h=<tf.Tensor 'Test/Model/RNN/multi_rnn_cell/cell_0/basic_lstm_cell/mul_2:0' shape=(1, 200) dtype=float32>), LSTMStateTuple(c=<tf.Tensor 'Test/Model/RNN/multi_rnn_cell/cell_1/basic_lstm_cell/add_1:0' shape=(1, 200) dtype=float32>, h=<tf.Tensor 'Test/Model/RNN/multi_rnn_cell/cell_1/basic_lstm_cell/mul_2:0' shape=(1, 200) dtype=float32>))\n"
     ]
    }
   ],
   "source": [
    "model = mtest\n",
    "model.final_state.p()\n",
    "\n",
    "print(sess.run('Test/Model/RNN/multi_rnn_cell/cell_0/basic_lstm_cell/add_1:0'))"
   ]
  },
  {
   "cell_type": "code",
   "execution_count": 21,
   "metadata": {},
   "outputs": [
    {
     "data": {
      "text/plain": [
       "False"
      ]
     },
     "execution_count": 21,
     "metadata": {},
     "output_type": "execute_result"
    }
   ],
   "source": [
    "all_vars = tf.get_collection('vars')\n",
    "for v in all_vars:\n",
    "    v_ = sess.run(v)\n",
    "    print(v_)"
   ]
  },
  {
   "cell_type": "code",
   "execution_count": null,
   "metadata": {
    "collapsed": true
   },
   "outputs": [],
   "source": []
  }
 ],
 "metadata": {
  "kernelspec": {
   "display_name": "Python 2",
   "language": "python",
   "name": "python2"
  },
  "language_info": {
   "codemirror_mode": {
    "name": "ipython",
    "version": 2
   },
   "file_extension": ".py",
   "mimetype": "text/x-python",
   "name": "python",
   "nbconvert_exporter": "python",
   "pygments_lexer": "ipython2",
   "version": "2.7.12"
  }
 },
 "nbformat": 4,
 "nbformat_minor": 2
}
